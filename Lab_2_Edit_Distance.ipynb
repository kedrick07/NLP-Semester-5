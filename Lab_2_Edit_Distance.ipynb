{
  "nbformat": 4,
  "nbformat_minor": 0,
  "metadata": {
    "colab": {
      "provenance": [],
      "include_colab_link": true
    },
    "kernelspec": {
      "name": "python3",
      "display_name": "Python 3"
    },
    "language_info": {
      "name": "python"
    }
  },
  "cells": [
    {
      "cell_type": "markdown",
      "metadata": {
        "id": "view-in-github",
        "colab_type": "text"
      },
      "source": [
        "<a href=\"https://colab.research.google.com/github/kedrick07/NLP-Semester-5/blob/main/Lab_2_Edit_Distance.ipynb\" target=\"_parent\"><img src=\"https://colab.research.google.com/assets/colab-badge.svg\" alt=\"Open In Colab\"/></a>"
      ]
    },
    {
      "cell_type": "markdown",
      "source": [
        "# **Lab 2: Minimum Edit Distance**\n",
        "**Course:** SKM3206 – Natural Language Processing  \n",
        "**Lecturer:** Assoc. Prof. Dr. Azreen Azman / Dr. Nurul Amelina Nasharuddin  \n",
        "**Due date:** 2 November 2025 (Sunday)\n",
        "\n",
        "> ⚠️ **Instructions:**  \n",
        "> 1. Go to *File → Save a copy in Drive* before editing.  \n",
        "> 2. Rename your notebook as `Lab_LabNo_StudentID_Name.ipynb`.\n",
        "> 3. Read the examples carefully before attempting the exercises.\n",
        "> 4. Complete all the tasks in the code cells provided.  \n",
        "> 5. Submit your Colab link (e.g. http://colab.research.google.com/drive/....) as a submission in the PutraBlast.  \n",
        "\n",
        "\n",
        "\n"
      ],
      "metadata": {
        "id": "vCExb-DsYsOu"
      }
    },
    {
      "cell_type": "markdown",
      "source": [
        "\n",
        "# **Levenshtein's Edit Distance**\n",
        "\n",
        "The Levenshtein distance is a string metric for measuring the\n",
        "difference between two sequences. Informally, the Levenshtein\n",
        "distance between two words is the minimum number of\n",
        "single-character edits (insertions, deletions or substitutions)\n",
        "required to change one word into the other.\n",
        "\n",
        "## Definition\n",
        "\n",
        "Mathematically, the Levenshtein distance between two strings\n",
        "`a` and `b` (of length `|a|` and `|b|` respectively) is given by\n",
        "![Levenshtein](https://wikimedia.org/api/rest_v1/media/math/render/svg/4cf357d8f2135035207088d2c7b890fb4b64e410)\n",
        "where\n",
        "\n",
        "![Levenshtein](https://wikimedia.org/api/rest_v1/media/math/render/svg/f0a48ecfc9852c042382fdc33c19e11a16948e85)\n",
        "\n",
        "where\n",
        "![Levenshtein](https://wikimedia.org/api/rest_v1/media/math/render/svg/52512ede08444b13838c570ba4a3fc71d54dbce9)\n",
        "is the indicator function equal to `0` when\n",
        "![Levenshtein](https://wikimedia.org/api/rest_v1/media/math/render/svg/231fda9ee578f0328c5ca28088d01928bb0aaaec)\n",
        "and equal to 1 otherwise, and\n",
        "![Levenshtein](https://wikimedia.org/api/rest_v1/media/math/render/svg/bdc0315678caad28648aafedb6ebafb16bd1655c)\n",
        "is the distance between the first `i` characters of `a` and the first\n",
        "`j` characters of `b`.\n",
        "\n",
        "Note that the first element in the minimum corresponds to\n",
        "deletion (from `a` to `b`), the second to insertion and\n",
        "the third to match or mismatch, depending on whether the\n",
        "respective symbols are the same.\n",
        "\n",
        "## Example\n",
        "\n",
        "For example, the Levenshtein distance between `kitten` and\n",
        "`sitting` is `3`, since the following three edits change one\n",
        "into the other, and there is no way to do it with fewer than\n",
        "three edits:\n",
        "\n",
        "1. **k**itten → **s**itten (substitution of \"s\" for \"k\")\n",
        "2. sitt**e**n → sitt**i**n (substitution of \"i\" for \"e\")\n",
        "3. sittin → sittin**g** (insertion of \"g\" at the end).\n",
        "\n",
        "## Applications\n",
        "\n",
        "This has a wide range of applications, for instance, spell checkers, correction\n",
        "systems for optical character recognition, fuzzy string searching, and software\n",
        "to assist natural language translation based on translation memory.\n",
        "\n",
        "## Dynamic Programming Approach Explanation\n",
        "\n",
        "Let’s take a simple example of finding minimum edit distance between\n",
        "strings `ME` and `MY`. Intuitively you already know that minimum edit distance\n",
        "here is `1` operation and this operation. And it is replacing `E` with `Y`. But\n",
        "let’s try to formalize it in a form of the algorithm in order to be able to\n",
        "do more complex examples like transforming `Saturday` into `Sunday`.\n",
        "\n",
        "To apply the mathematical formula mentioned above to `ME → MY` transformation\n",
        "we need to know minimum edit distances of `ME → M`, `M → MY` and `M → M` transformations\n",
        "in prior. Then we will need to pick the minimum one and add _one_ operation to\n",
        "transform last letters `E → Y`. So minimum edit distance of `ME → MY` transformation\n",
        "is being calculated based on three previously possible transformations.\n",
        "\n",
        "To explain this further let’s draw the following matrix:\n",
        "\n",
        "![Levenshtein Matrix](https://cdn-images-1.medium.com/max/1600/1*aTunSUoy0BJyYBVn4tWGrA.png)\n",
        "\n",
        "- Cell `(0:1)` contains red number 1. It means that we need 1 operation to\n",
        "transform `M` to an empty string. And it is by deleting `M`. This is why this number is red.\n",
        "- Cell `(0:2)` contains red number 2. It means that we need 2 operations\n",
        "to transform `ME` to an empty string. And it is by deleting `E` and `M`.\n",
        "- Cell `(1:0)` contains green number 1. It means that we need 1 operation\n",
        "to transform an empty string to `M`. And it is by inserting `M`. This is why this number is green.\n",
        "- Cell `(2:0)` contains green number 2. It means that we need 2 operations\n",
        "to transform an empty string to `MY`. And it is by inserting `Y` and  `M`.\n",
        "- Cell `(1:1)` contains number 0. It means that it costs nothing\n",
        "to transform `M` into `M`.\n",
        "- Cell `(1:2)` contains red number 1. It means that we need 1 operation\n",
        "to transform `ME` to `M`. And it is by deleting `E`.\n",
        "- And so on...\n",
        "\n",
        "This looks easy for such small matrix as ours (it is only `3x3`). But here you\n",
        "may find basic concepts that may be applied to calculate all those numbers for\n",
        "bigger matrices (let’s say a `9x7` matrix for `Saturday → Sunday` transformation).\n",
        "\n",
        "According to the formula you only need three adjacent cells `(i-1:j)`, `(i-1:j-1)`, and `(i:j-1)` to\n",
        "calculate the number for current cell `(i:j)`. All we need to do is to find the\n",
        "minimum of those three cells and then add `1` in case if we have different\n",
        "letters in `i`'s row and `j`'s column.\n",
        "\n",
        "You may clearly see the recursive nature of the problem.\n",
        "\n",
        "![Levenshtein Matrix](https://cdn-images-1.medium.com/max/1600/1*w8UB4DSvBnAK6mBXRGQDjw.png)\n",
        "\n",
        "Let's draw a decision graph for this problem.\n",
        "\n",
        "![Minimum Edit Distance Decision Graph](https://cdn-images-1.medium.com/max/1600/1*8jD0qvr5B9PwRFM_9z7q9A.png)\n",
        "\n",
        "You may see a number of overlapping sub-problems on the picture that are marked\n",
        "with red. Also there is no way to reduce the number of operations and make it\n",
        "less than a minimum of those three adjacent cells from the formula.\n",
        "\n",
        "Also you may notice that each cell number in the matrix is being calculated\n",
        "based on previous ones. Thus the tabulation technique (filling the cache in\n",
        "bottom-up direction) is being applied here.\n",
        "\n",
        "Applying this principle further we may solve more complicated cases like\n",
        "with `Saturday → Sunday` transformation.\n",
        "\n",
        "![Levenshtein distance](https://cdn-images-1.medium.com/max/1600/1*geMdmZcdU1bZbHIoh6KO3Q.png)\n",
        "\n",
        "## References\n",
        "\n",
        "- [trekhleb/javascript-algorithms](https://github.com/trekhleb/javascript-algorithms/tree/master/src/algorithms/string/levenshtein-distance)\n",
        "- [Wikipedia](https://en.wikipedia.org/wiki/Levenshtein_distance)\n",
        "- [YouTube](https://www.youtube.com/watch?v=We3YDTzNXEk&list=PLLXdhg_r2hKA7DPDsunoDZ-Z769jWn4R8)\n",
        "- [ITNext](https://itnext.io/dynamic-programming-vs-divide-and-conquer-2fea680becbe)\n"
      ],
      "metadata": {
        "id": "sYKxlQGx7hfr"
      }
    },
    {
      "cell_type": "markdown",
      "source": [
        "##**Exercise**\n",
        "\n",
        "###**Watch This Video**\n",
        "Make sure to watch the following video to understand the Levenshtein Distance algorithm in depth:\n",
        "[Levenshtein Distance Explanation](https://www.youtube.com/watch?v=MiqoA-yF-0M)\n",
        "\n",
        "**Your Task**: Implement exactly what the YouTube video explains!\n",
        "\n",
        "## **Steps to Implement the Levenshtein Distance Algorithm**\n",
        "\n",
        "1. **Take a Value of Length of String 1**  \n",
        "   Use `len(str1)` to determine the length of the first string.\n",
        "\n",
        "2. **Take a Value of Length of String 2**  \n",
        "   Use `len(str2)` to determine the length of the second string.\n",
        "\n",
        "3. **Initialize a 2D Array**  \n",
        "   Create a 2D array (matrix) with dimensions `(len_str1 + 1) x (len_str2 + 1)` to store the distances.\n",
        "\n",
        "4. **Put the Base Column Value**  \n",
        "   Fill the first column of the matrix with values `0, 1, 2, ..., len_str1`, representing the cost of deleting characters from the first string.\n",
        "\n",
        "5. **Put the Base Row Value**  \n",
        "   Fill the first row of the matrix with values `0, 1, 2, ..., len_str2`, representing the cost of inserting characters into the first string to match the second string.\n",
        "\n",
        "6. **Populate the Matrix**  \n",
        "   - **Check if Characters are the Same**  \n",
        "     If `str1[i - 1] == str2[j - 1]`, assign the value from the diagonal cell (top-left) to the current index `dp[i][j]`.\n",
        "   - **If Not, Declare Variables**  \n",
        "     Create variables for `insert`, `delete`, and `substitute` costs, then calculate:\n",
        "     - **Insert Cost**: `dp[i][j - 1] + 1`\n",
        "     - **Delete Cost**: `dp[i - 1][j] + 1`\n",
        "     - **Substitute Cost**: `dp[i - 1][j - 1] + 1`\n",
        "   - **Take the Minimum Value**  \n",
        "     Assign the minimum of these three costs to `dp[i][j]`.\n",
        "\n",
        "7. **Return the Last Value on the Bottom-Right Cell**  \n",
        "   The value at `dp[len_str1][len_str2]` will be the final Levenshtein distance between the two strings.\n",
        "\n",
        "\n"
      ],
      "metadata": {
        "id": "sqas9Ip0_-Li"
      }
    },
    {
      "cell_type": "code",
      "source": [
        "def edit_distance(str1,str2):"
      ],
      "metadata": {
        "id": "RbKFInaz70Xy"
      },
      "execution_count": null,
      "outputs": []
    },
    {
      "cell_type": "markdown",
      "source": [
        "# 🧮 **Lab Assignment**\n",
        "Complete the following tasks and ensure your answers run without error.\n"
      ],
      "metadata": {
        "id": "cFGaPinHQQ53"
      }
    },
    {
      "cell_type": "markdown",
      "source": [
        "---\n",
        "### **Task 1: Word Recommendation**\n",
        "\n",
        "Write a function `suggest_correction(word: str, dictionary: List[str]) -> str` that suggests a corrected word from a dictionary. Given a misspelled word, the function will return the closest word from the dictionary, using the Levenshtein Distance algorithm to determine similarity. If the word is correct or no similar word is found, return `\"No suggestion\"`.\n",
        "\n",
        "The suggested word should be the one with the minimum edit distance. If multiple words have the same minimum edit distance, return any one of them.\n",
        "\n",
        "**Example 1:**\n",
        "\n",
        "> **Input:**  \n",
        "> ```suggest_correction(\"recieve\", [\"receive\", \"recipe\", \"perceive\", \"relieve\"])```  \n",
        "> **Output:** `\"receive\"`  \n",
        "> **Explanation:** `\"receive\"` has the smallest edit distance from `\"recieve\"`.\n",
        "\n",
        "**Example 2:**\n",
        "\n",
        "> **Input:**  \n",
        "> ```suggest_correction(\"katt\", [\"cat\", \"bat\", \"rat\"])```  \n",
        "> **Output:** `\"cat\"`  \n",
        "> **Explanation:** Among the dictionary words, `\"cat\"` has the smallest edit distance from `\"katt\"`.\n",
        "\n",
        "**Constraints:**\n",
        "- `word` length is between 1 and 100.\n",
        "- Dictionary size is between 1 and 10,000 words.\n",
        "---"
      ],
      "metadata": {
        "id": "z4XVzjcUiWmR"
      }
    },
    {
      "cell_type": "code",
      "source": [
        "def suggest_correction(input_word, dictionary):\n",
        "  #Write your code here"
      ],
      "metadata": {
        "id": "ZcVriQMoMY1P"
      },
      "execution_count": null,
      "outputs": []
    },
    {
      "cell_type": "markdown",
      "source": [
        "---\n",
        "### **Task 2: Plagiarism Checker Game**\n",
        "\n",
        "Write a function `find_culprit_from_files(essay_path: str, suspect_files: List[str]) -> str` that helps find the culprit in a plagiarism game. The game includes a brilliant essay in a text file, and three suspect text files containing potentially plagiarized content. Your function should read the content of each file and identify which file has the longest overlap (longest common substring) with the brilliant essay. Return the file name of the culprit with the most overlap.\n",
        "\n",
        "The brilliant essay and three suspect text files can be downloaded from here: https://drive.google.com/drive/folders/1znelVqPl9IKU6gaXiFipUEnFS4mgs24C?usp=sharing\n",
        "\n",
        "\n",
        "**Example 1:**\n",
        "\n",
        "> **Input:**  \n",
        "> ```find_culprit_from_files(\"brilliant_essay.txt\", [\"suspect1.txt\", \"suspect2.txt\", \"suspect3.txt\"])```  \n",
        "> **Output:** `\"suspect2.txt\"`  \n",
        "> **Explanation:** The text in `\"suspect2.txt\"` has the longest overlapping substring with `\"brilliant_essay.txt\"`.\n",
        "\n",
        "**Example 2:**\n",
        "\n",
        "> **Input:**  \n",
        "> ```find_culprit_from_files(\"brilliant_essay.txt\", [\"suspect1.txt\", \"suspect2.txt\", \"suspect3.txt\"])```  \n",
        "> **Output:** `\"suspect1.txt\"`  \n",
        "> **Explanation:** `\"suspect1.txt\"` has the longest common substring with the essay file, suggesting the highest overlap.\n",
        "\n",
        "**Constraints:**\n",
        "- `brilliant_essay.txt` file length is between 10 and 1000 characters.\n",
        "- Each suspect file length is between 10 and 300 characters.\n",
        "\n",
        "**Notes:**  \n",
        "1. Ensure that each file is read and compared for similarity with the brilliant essay.\n",
        "2. Utilize a longest common substring approach to find the maximum overlap between the brilliant essay and each suspect text.\n",
        "\n",
        "---"
      ],
      "metadata": {
        "id": "QmrHJy2IgTQQ"
      }
    },
    {
      "cell_type": "code",
      "source": [
        "def find_culprit_from_files(original_file, suspect_files):\n",
        "    #Write your code here"
      ],
      "metadata": {
        "id": "lpGUO0JIgs5p"
      },
      "execution_count": null,
      "outputs": []
    },
    {
      "cell_type": "markdown",
      "source": [
        "---\n",
        "## 📤 **Submission Reminder:**  \n",
        "- Upload your Colab link to PutraBlast (as *Viewer link*).  \n",
        "- Ensure the file name is `LabNo_StudentID_Name.ipynb`.  \n",
        "---\n"
      ],
      "metadata": {
        "id": "_xIrY2pJe_kT"
      }
    }
  ]
}