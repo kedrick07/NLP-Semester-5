{
  "nbformat": 4,
  "nbformat_minor": 0,
  "metadata": {
    "colab": {
      "provenance": [],
      "include_colab_link": true
    },
    "kernelspec": {
      "name": "python3",
      "display_name": "Python 3"
    },
    "language_info": {
      "name": "python"
    }
  },
  "cells": [
    {
      "cell_type": "markdown",
      "metadata": {
        "id": "view-in-github",
        "colab_type": "text"
      },
      "source": [
        "<a href=\"https://colab.research.google.com/github/kedrick07/NLP-Semester-5/blob/main/Lab_1_Regex.ipynb\" target=\"_parent\"><img src=\"https://colab.research.google.com/assets/colab-badge.svg\" alt=\"Open In Colab\"/></a>"
      ]
    },
    {
      "cell_type": "markdown",
      "source": [
        "# **Lab 1: Regular Expression**\n",
        "**Course:** SKM3206 – Natural Language Processing  \n",
        "**Lecturer:** Dr Nurul Amelina Nasharuddin  \n",
        "**Due date:** 20 October 2025 (Monday)\n",
        "\n",
        "> ⚠️ **Instructions:**  \n",
        "> 1. Go to *File → Save a copy in Drive* before editing.  \n",
        "> 2. Rename your notebook as `Lab_LabNo_StudentID_Name.ipynb`.\n",
        "> 3. Read the examples carefully before attempting the exercises.\n",
        "> 4. Complete all the tasks in the code cells provided.  \n",
        "> 5. Submit your Colab link (e.g. http://colab.research.google.com/drive/....) as a submission in the PutraBlast.  \n",
        "\n",
        "\n",
        "\n"
      ],
      "metadata": {
        "id": "vCExb-DsYsOu"
      }
    },
    {
      "cell_type": "markdown",
      "source": [
        "## **REGEX Python Documentation**"
      ],
      "metadata": {
        "id": "uATYAFzHeUuJ"
      }
    },
    {
      "cell_type": "markdown",
      "source": [
        "In Python, the `re` module provides functions such as:\n",
        "- `re.search()` – finds the first match of a pattern.\n",
        "- `re.findall()` – returns all matches of a pattern.\n",
        "- `re.sub()` – replaces matched text with another string.\n",
        "- `re.split()` – splits text by the occurrences of a pattern.\n",
        "\n",
        "You will certainly want to consult the [Python regular expression documentation](https://docs.python.org/3/library/re.html) as you work on this project."
      ],
      "metadata": {
        "id": "4l3kf_Twdimn"
      }
    },
    {
      "cell_type": "markdown",
      "source": [
        "## **Refresher: Regex Symbols and Examples**\n",
        "\n",
        "### **1. Basic Metacharacters**\n",
        "- **`.` (dot)** : Matches any character except a newline.\n",
        "  - **Regex**: `c.t`\n",
        "  - **Sentence**: \"The cat sat on the mat.\"\n",
        "  - **Match**: `cat`, `mat` (matches any three-letter word where the first and last letters are \"c\" and \"t,\" and the middle character can be anything)\n",
        "\n",
        "- **`^`** : Matches the start of a string.\n",
        "  - **Regex**: `^Hello`\n",
        "  - **Sentence**: \"Hello world! Hello again.\"\n",
        "  - **Match**: `Hello` (only the first \"Hello\" at the start of the string)\n",
        "\n",
        "- **`$`** : Matches the end of a string.\n",
        "  - **Regex**: `world$`\n",
        "  - **Sentence**: \"Hello world\"\n",
        "  - **Match**: `world` (only if \"world\" is at the end)\n",
        "\n",
        "- **`*`** : Matches 0 or more repetitions of the preceding element.\n",
        "  - **Regex**: `ab*c`\n",
        "  - **Sentence**: \"ac, abc, abbc\"\n",
        "  - **Match**: `ac`, `abc`, `abbc` (matches \"a\" followed by any number of \"b\"s and then \"c\")\n",
        "\n",
        "- **`+`** : Matches 1 or more repetitions of the preceding element.\n",
        "  - **Regex**: `ab+c`\n",
        "  - **Sentence**: \"ac, abc, abbc\"\n",
        "  - **Match**: `abc`, `abbc` (requires at least one \"b\" after \"a\" before \"c\")\n",
        "\n",
        "- **`?`** : Makes the preceding element optional (0 or 1 occurrence).\n",
        "  - **Regex**: `colou?r`\n",
        "  - **Sentence**: \"color, colour\"\n",
        "  - **Match**: `color`, `colour` (matches both versions with or without \"u\")\n",
        "\n",
        "- **`{n}`** : Matches exactly `n` occurrences of the preceding element.\n",
        "  - **Regex**: `a{3}`\n",
        "  - **Sentence**: \"aa, aaa, aaaa\"\n",
        "  - **Match**: `aaa` (matches exactly three \"a\"s)\n",
        "\n",
        "- **`{n,}`** : Matches `n` or more occurrences of the preceding element.\n",
        "  - **Regex**: `a{2,}`\n",
        "  - **Sentence**: \"a, aa, aaa\"\n",
        "  - **Match**: `aa`, `aaa` (matches two or more \"a\"s)\n",
        "\n",
        "- **`{n,m}`** : Matches between `n` and `m` occurrences of the preceding element.\n",
        "  - **Regex**: `a{2,3}`\n",
        "  - **Sentence**: \"a, aa, aaa, aaaa\"\n",
        "  - **Match**: `aa`, `aaa` (matches two or three \"a\"s)\n",
        "\n",
        "- **`\\`** : Escapes a metacharacter to match it literally.\n",
        "  - **Regex**: `3\\.14`\n",
        "  - **Sentence**: \"Pi is approximately 3.14\"\n",
        "  - **Match**: `3.14` (the dot is treated as a literal dot, not any character)\n",
        "\n",
        "### **2. Character Classes**\n",
        "- **`[abc]`** : Matches any one character inside the square brackets.\n",
        "  - **Regex**: `[aeiou]`\n",
        "  - **Sentence**: \"The cat sat on the mat.\"\n",
        "  - **Match**: `a`, `o`, `a`, `a`, `a` (matches each vowel)\n",
        "\n",
        "- **`[^abc]`** : Matches any character NOT inside the square brackets.\n",
        "  - **Regex**: `[^aeiou]`\n",
        "  - **Sentence**: \"Hello world\"\n",
        "  - **Match**: `H`, `l`, `l`, ` `, `w`, `r`, `l`, `d` (matches non-vowels)\n",
        "\n",
        "### **3. Predefined Character Classes**\n",
        "- **`\\d`** : Matches any digit (0-9).\n",
        "  - **Regex**: `\\d+`\n",
        "  - **Sentence**: \"My number is 12345.\"\n",
        "  - **Match**: `12345` (matches the whole sequence of digits)\n",
        "\n",
        "- **`\\D`** : Matches any non-digit character.\n",
        "  - **Regex**: `\\D+`\n",
        "  - **Sentence**: \"Room 101\"\n",
        "  - **Match**: `Room` (matches the non-digit part)\n",
        "\n",
        "- **`\\w`** : Matches any word character (alphanumeric + underscore).\n",
        "  - **Regex**: `\\w+`\n",
        "  - **Sentence**: \"Hello_123!\"\n",
        "  - **Match**: `Hello_123` (matches word characters)\n",
        "\n",
        "- **`\\W`** : Matches any non-word character.\n",
        "  - **Regex**: `\\W+`\n",
        "  - **Sentence**: \"Hello, world!\"\n",
        "  - **Match**: `, `, `!` (matches punctuation and spaces)\n",
        "\n",
        "- **`\\s`** : Matches any whitespace character (spaces, tabs, line breaks).\n",
        "  - **Regex**: `\\s+`\n",
        "  - **Sentence**: \"Hello world\"\n",
        "  - **Match**: ` ` (matches the space between \"Hello\" and \"world\")\n",
        "\n",
        "- **`\\S`** : Matches any non-whitespace character.\n",
        "  - **Regex**: `\\S+`\n",
        "  - **Sentence**: \"Hello world\"\n",
        "  - **Match**: `Hello`, `world` (matches words)\n",
        "\n",
        "### **4. Anchors**\n",
        "- **`\\b`** : Matches a word boundary.\n",
        "  - **Regex**: `\\bcat\\b`\n",
        "  - **Sentence**: \"The cat sat on the catalogue.\"\n",
        "  - **Match**: `cat` (matches \"cat\" as a whole word)\n",
        "\n",
        "- **`\\B`** : Matches a non-word boundary.\n",
        "  - **Regex**: `\\Bcat\\B`\n",
        "  - **Sentence**: \"The catalogue contains the word category.\"\n",
        "  - **Match**: `cat` (matches \"cat\" as part of \"catalogue\" or \"category\")\n"
      ],
      "metadata": {
        "id": "sqas9Ip0_-Li"
      }
    },
    {
      "cell_type": "markdown",
      "source": [
        "## **1. Basic Metacharacter**"
      ],
      "metadata": {
        "id": "Oi__QUqfzd5t"
      }
    },
    {
      "cell_type": "code",
      "source": [
        "import re\n",
        "\n",
        "# Example 1: Dot (.) - Match any character except a newline\n",
        "text = \"The cat sat on the mat.\"\n",
        "pattern = r\"c.t\"\n",
        "matches = re.findall(pattern, text)\n",
        "print(f\"Pattern: {pattern}, Matches: {matches}\")\n"
      ],
      "metadata": {
        "colab": {
          "base_uri": "https://localhost:8080/"
        },
        "id": "VUb-Otp9y2XS",
        "outputId": "d10b1049-1bd6-40a0-927d-2e59f76b627a"
      },
      "execution_count": null,
      "outputs": [
        {
          "output_type": "stream",
          "name": "stdout",
          "text": [
            "Pattern: c.t, Matches: ['cat']\n"
          ]
        }
      ]
    },
    {
      "cell_type": "code",
      "source": [
        "# Example 2: Star (*) - Match zero or more repetitions\n",
        "text = \"ab, abc, abbc, abbbc\"\n",
        "pattern = r\"ab*c\"\n",
        "matches = re.findall(pattern, text)\n",
        "print(f\"Pattern: {pattern}, Matches: {matches}\")"
      ],
      "metadata": {
        "colab": {
          "base_uri": "https://localhost:8080/"
        },
        "id": "2HkrNHJvzs8j",
        "outputId": "3a71633b-2275-4d87-f59e-fdbfd610a1f4"
      },
      "execution_count": null,
      "outputs": [
        {
          "output_type": "stream",
          "name": "stdout",
          "text": [
            "Pattern: ab*c, Matches: ['abc', 'abbc', 'abbbc']\n"
          ]
        }
      ]
    },
    {
      "cell_type": "code",
      "source": [
        "# Example 3: Curly braces ({n,m}) - Match between n and m occurrences\n",
        "text = \"ha, haha, hahahaha\"\n",
        "pattern = r\"ha{2,4}\"\n",
        "matches = re.findall(pattern, text)\n",
        "print(f\"Pattern: {pattern}, Matches: {matches}\")"
      ],
      "metadata": {
        "colab": {
          "base_uri": "https://localhost:8080/"
        },
        "id": "YcRP5Aq5zvG5",
        "outputId": "31edc332-e032-4880-f068-b4f080d2c236"
      },
      "execution_count": null,
      "outputs": [
        {
          "output_type": "stream",
          "name": "stdout",
          "text": [
            "Pattern: ha{2,4}, Matches: []\n"
          ]
        }
      ]
    },
    {
      "cell_type": "markdown",
      "source": [
        "## **2. Character Classes**"
      ],
      "metadata": {
        "id": "U2inRz-Iz3uq"
      }
    },
    {
      "cell_type": "code",
      "source": [
        "# Example 1: Square brackets [] - Match any character inside the brackets\n",
        "text = \"apple, orange, grape\"\n",
        "pattern = r\"[aeiou]\"\n",
        "matches = re.findall(pattern, text)\n",
        "print(f\"Pattern: {pattern}, Matches: {matches}\")\n"
      ],
      "metadata": {
        "colab": {
          "base_uri": "https://localhost:8080/"
        },
        "id": "qf_KTC-gz2_N",
        "outputId": "4f880fbf-c556-43a1-e687-5792268ca258"
      },
      "execution_count": null,
      "outputs": [
        {
          "output_type": "stream",
          "name": "stdout",
          "text": [
            "Pattern: [aeiou], Matches: ['a', 'e', 'o', 'a', 'e', 'a', 'e']\n"
          ]
        }
      ]
    },
    {
      "cell_type": "code",
      "source": [
        "# Example 2: Negated character class [^] - Match characters NOT in the brackets\n",
        "text = \"123 ABC abc\"\n",
        "pattern= r\"[^0-9]\"\n",
        "matches = re.findall(pattern, text)\n",
        "print(f\"Pattern: {pattern}, Matches: {matches}\")\n"
      ],
      "metadata": {
        "colab": {
          "base_uri": "https://localhost:8080/"
        },
        "id": "aygDAp9zz7Ah",
        "outputId": "e361b85c-7cfb-483c-a71b-a01ae572d9b6"
      },
      "execution_count": null,
      "outputs": [
        {
          "output_type": "stream",
          "name": "stdout",
          "text": [
            "Pattern: [^0-9], Matches: [' ', 'A', 'B', 'C', ' ', 'a', 'b', 'c']\n"
          ]
        }
      ]
    },
    {
      "cell_type": "code",
      "source": [
        "# Example 3: Range in character class - Match a range of characters\n",
        "text10 = \"The quick brown fox jumps over the lazy dog.\"\n",
        "pattern = r\"[a-m]\"\n",
        "matches = re.findall(pattern, text)\n",
        "print(f\"Pattern: {pattern}, Matches: {matches}\")"
      ],
      "metadata": {
        "colab": {
          "base_uri": "https://localhost:8080/"
        },
        "id": "-MqfpX78z8Cb",
        "outputId": "d2d77aa0-fb1d-4f7c-96b1-873b38c428e3"
      },
      "execution_count": null,
      "outputs": [
        {
          "output_type": "stream",
          "name": "stdout",
          "text": [
            "Pattern: [a-m], Matches: ['a', 'b', 'c']\n"
          ]
        }
      ]
    },
    {
      "cell_type": "markdown",
      "source": [
        "## **3. Predefined Character Classes**"
      ],
      "metadata": {
        "id": "2jY41Y2Nz81c"
      }
    },
    {
      "cell_type": "code",
      "source": [
        "# Example 1: \\d - Match any digit\n",
        "text = \"Phone number: 123-456-7890\"\n",
        "pattern = r\"\\d+\"\n",
        "matches = re.findall(pattern, text)\n",
        "print(f\"Pattern: {pattern}, Matches: {matches}\")"
      ],
      "metadata": {
        "colab": {
          "base_uri": "https://localhost:8080/"
        },
        "id": "VGNDJLAa0Ab3",
        "outputId": "f0cb6ea3-a874-4d00-be93-4dc22fad847d"
      },
      "execution_count": null,
      "outputs": [
        {
          "output_type": "stream",
          "name": "stdout",
          "text": [
            "Pattern: \\d+, Matches: ['123', '456', '7890']\n"
          ]
        }
      ]
    },
    {
      "cell_type": "code",
      "source": [
        "# Example 2: \\w - Match any word character (alphanumeric + underscore)\n",
        "text = \"Welcome to Regex_101!\"\n",
        "pattern = r\"\\w+\"\n",
        "matches = re.findall(pattern, text)\n",
        "print(f\"Pattern: {pattern}, Matches: {matches}\")\n"
      ],
      "metadata": {
        "colab": {
          "base_uri": "https://localhost:8080/"
        },
        "id": "kncgithI0EzN",
        "outputId": "ca1c8d67-621b-404b-e4b5-30136cd7b119"
      },
      "execution_count": null,
      "outputs": [
        {
          "output_type": "stream",
          "name": "stdout",
          "text": [
            "Pattern: \\w+, Matches: ['Welcome', 'to', 'Regex_101']\n"
          ]
        }
      ]
    },
    {
      "cell_type": "code",
      "source": [
        "# Example 3: \\s - Match any whitespace character\n",
        "text = \"Hello world, it's a beautiful day.\"\n",
        "pattern = r\"\\s\"\n",
        "matches = re.findall(pattern, text)\n",
        "print(f\"Pattern: {pattern}, Matches: {matches}\")"
      ],
      "metadata": {
        "colab": {
          "base_uri": "https://localhost:8080/"
        },
        "id": "WMSrBR7E0FvD",
        "outputId": "3c6c0f1c-7e5e-4601-e32b-e08c02c9a621"
      },
      "execution_count": null,
      "outputs": [
        {
          "output_type": "stream",
          "name": "stdout",
          "text": [
            "Pattern: \\s, Matches: [' ', ' ', ' ', ' ', ' ']\n"
          ]
        }
      ]
    },
    {
      "cell_type": "markdown",
      "source": [
        "## **4. Anchors**"
      ],
      "metadata": {
        "id": "pY03gxOC0GNm"
      }
    },
    {
      "cell_type": "code",
      "source": [
        "# Example 1: ^ - Match the start of a string\n",
        "text = \"Hello there, Hello world!\"\n",
        "pattern = r\"^Hello\"\n",
        "matches = re.findall(pattern, text)\n",
        "print(f\"Pattern: {pattern}, Matches: {matches}\")\n"
      ],
      "metadata": {
        "colab": {
          "base_uri": "https://localhost:8080/"
        },
        "id": "iFW8AqsX0JbZ",
        "outputId": "c0d6642e-3a20-4a18-f31f-cc10804a0cb6"
      },
      "execution_count": null,
      "outputs": [
        {
          "output_type": "stream",
          "name": "stdout",
          "text": [
            "Pattern: ^Hello, Matches: ['Hello']\n"
          ]
        }
      ]
    },
    {
      "cell_type": "code",
      "source": [
        "# Example 2: $ - Match the end of a string\n",
        "text = \"This is the end.\"\n",
        "pattern = r\"end\\.$\"\n",
        "matches = re.findall(pattern, text)\n",
        "print(f\"Pattern: {pattern}, Matches: {matches}\")\n"
      ],
      "metadata": {
        "colab": {
          "base_uri": "https://localhost:8080/"
        },
        "id": "q_KrJTty0Luw",
        "outputId": "40c76af7-429c-4d69-de82-f77c47f4377d"
      },
      "execution_count": null,
      "outputs": [
        {
          "output_type": "stream",
          "name": "stdout",
          "text": [
            "Pattern: end\\.$, Matches: ['end.']\n"
          ]
        }
      ]
    },
    {
      "cell_type": "code",
      "source": [
        "# Example 3: \\b - Match a word boundary\n",
        "text = \"The cat in the catalog.\"\n",
        "pattern = r\"\\bcat\\b\"\n",
        "matches = re.findall(pattern, text)\n",
        "print(f\"Pattern: {pattern}, Matches: {matches}\")"
      ],
      "metadata": {
        "colab": {
          "base_uri": "https://localhost:8080/"
        },
        "id": "0laSwKH40Mrq",
        "outputId": "564bd482-39cd-4702-c2fb-f2be2a9759cc"
      },
      "execution_count": null,
      "outputs": [
        {
          "output_type": "stream",
          "name": "stdout",
          "text": [
            "Pattern: \\bcat\\b, Matches: ['cat']\n"
          ]
        }
      ]
    },
    {
      "cell_type": "markdown",
      "source": [
        "## **More examples**"
      ],
      "metadata": {
        "id": "ZaryZfWF1CRd"
      }
    },
    {
      "cell_type": "markdown",
      "source": [
        "### 1. Find all 3-letter words."
      ],
      "metadata": {
        "id": "rhtU779i3fmS"
      }
    },
    {
      "cell_type": "code",
      "source": [
        "import re\n",
        "\n",
        "text = \"The cat ran fast but the dog was slow.\"\n",
        "pattern = r\"\\b\\w{3}\\b\"\n",
        "matches = re.findall(pattern, text)\n",
        "print(matches)  # Output: ['The', 'cat', 'ran', 'the', 'dog']\n",
        "\n",
        "# Regex pattern: \\b\\w{3}\\b\n",
        "# Explanation:\n",
        "# \\b is a word boundary to ensure the match starts and ends on a word.\n",
        "# \\w{3} matches exactly three word characters (letters, digits, or underscores).\n",
        "# \\b marks the end of the word boundary."
      ],
      "metadata": {
        "colab": {
          "base_uri": "https://localhost:8080/"
        },
        "id": "ci_0OXGz1GtX",
        "outputId": "f584dcb3-c544-4c45-9b60-e07220d8e500"
      },
      "execution_count": null,
      "outputs": [
        {
          "output_type": "stream",
          "name": "stdout",
          "text": [
            "['The', 'cat', 'ran', 'but', 'the', 'dog', 'was']\n"
          ]
        }
      ]
    },
    {
      "cell_type": "markdown",
      "source": [
        "### 2. Find words that start with a capital letter."
      ],
      "metadata": {
        "id": "V5Qmfp_T3ywn"
      }
    },
    {
      "cell_type": "code",
      "source": [
        "text = \"Alice went to Paris to see the Eiffel Tower.\"\n",
        "pattern = r\"\\b[A-Z]\\w*\"\n",
        "matches = re.findall(pattern, text)\n",
        "print(matches)  # Output: ['Alice', 'Paris', 'Eiffel', 'Tower']\n",
        "\n",
        "#Regex: \\b[A-Z]\\w*\n",
        "#Explanation:\n",
        "#\\b ensures the match starts at a word boundary.\n",
        "#[A-Z] matches any uppercase letter.\n",
        "#\\w* matches zero or more word characters following the uppercase letter."
      ],
      "metadata": {
        "colab": {
          "base_uri": "https://localhost:8080/"
        },
        "id": "CUOB7YVM3tS1",
        "outputId": "ddaa1182-744c-4d63-9a0a-ece414dabafb"
      },
      "execution_count": null,
      "outputs": [
        {
          "output_type": "stream",
          "name": "stdout",
          "text": [
            "['Alice', 'Paris', 'Eiffel', 'Tower']\n"
          ]
        }
      ]
    },
    {
      "cell_type": "markdown",
      "source": [
        "### 3. Extract all numbers from a text."
      ],
      "metadata": {
        "id": "uUN6-UXs5Wk1"
      }
    },
    {
      "cell_type": "code",
      "source": [
        "text = \"There are 12 apples, 5 oranges, and 100 grapes.\"\n",
        "pattern = r\"\\b\\d+\\b\"\n",
        "matches = re.findall(pattern, text)\n",
        "print(matches)  # Output: ['12', '5', '100']\n",
        "\n",
        "# Regex: \\b\\d+\\b\n",
        "# Explanation:\n",
        "# \\b ensures the match starts at a word boundary.\n",
        "# \\d+ matches one or more digits.\n",
        "# \\b marks the end of the word boundary, ensuring we capture whole numbers."
      ],
      "metadata": {
        "colab": {
          "base_uri": "https://localhost:8080/"
        },
        "id": "9-ek0XUd4b9d",
        "outputId": "da3530bd-8815-424e-e12a-af2296185e0e"
      },
      "execution_count": null,
      "outputs": [
        {
          "output_type": "stream",
          "name": "stdout",
          "text": [
            "['12', '5', '100']\n"
          ]
        }
      ]
    },
    {
      "cell_type": "markdown",
      "source": [
        "### 4. Find all words that end with \"ing\"."
      ],
      "metadata": {
        "id": "qPHaW-A14MhG"
      }
    },
    {
      "cell_type": "code",
      "source": [
        "text = \"She was running, jumping, and singing.\"\n",
        "pattern = r\"\\b\\w+ing\\b\"\n",
        "matches = re.findall(pattern, text)\n",
        "print(matches)  # Output: ['running', 'jumping', 'singing']\n",
        "\n",
        "# Regex: \\b\\w+ing\\b\n",
        "# Explanation:\n",
        "# \\b ensures the match starts at a word boundary.\n",
        "# \\w+ matches one or more word characters.\n",
        "# ing matches the literal string \"ing\".\n",
        "# \\b marks the end of the word boundary to ensure the word ends with \"ing\"."
      ],
      "metadata": {
        "colab": {
          "base_uri": "https://localhost:8080/"
        },
        "id": "hkcjiWN94hSN",
        "outputId": "9015e445-c78c-4d96-cfb3-5b25c5bf23a4"
      },
      "execution_count": null,
      "outputs": [
        {
          "output_type": "stream",
          "name": "stdout",
          "text": [
            "['running', 'jumping', 'singing']\n"
          ]
        }
      ]
    },
    {
      "cell_type": "markdown",
      "source": [
        "### 5. Find all instances of a single character followed by exactly two digits."
      ],
      "metadata": {
        "id": "O3s1uSFn4Pv-"
      }
    },
    {
      "cell_type": "code",
      "source": [
        "text = \"A12 B34 C56 D789\"\n",
        "pattern = r\"\\b\\w\\d{2}\\b\"\n",
        "matches = re.findall(pattern, text)\n",
        "print(matches)  # Output: ['A12', 'B34', 'C56']\n",
        "\n",
        "# Regex: \\b\\w\\d{2}\\b\n",
        "# Explanation:\n",
        "# \\b ensures the match starts at a word boundary.\n",
        "# \\w matches a single word character.\n",
        "# \\d{2} matches exactly two digits.\n",
        "# \\b marks the end of the word boundary."
      ],
      "metadata": {
        "id": "imkM3zba5M_4",
        "colab": {
          "base_uri": "https://localhost:8080/"
        },
        "outputId": "14c0549f-9571-474a-bd0c-45845f630df6"
      },
      "execution_count": null,
      "outputs": [
        {
          "output_type": "stream",
          "name": "stdout",
          "text": [
            "['A12', 'B34', 'C56']\n"
          ]
        }
      ]
    },
    {
      "cell_type": "markdown",
      "source": [
        "# 🧮 **Lab Assignment**\n",
        "Complete the following task and ensure your answers run without error.\n"
      ],
      "metadata": {
        "id": "cFGaPinHQQ53"
      }
    },
    {
      "cell_type": "markdown",
      "source": [
        "## 📘 **Question Brief**"
      ],
      "metadata": {
        "id": "7-zlh4orcsNP"
      }
    },
    {
      "cell_type": "markdown",
      "source": [
        "Go thorugh the code below. This is a functioning program, but currently the only things it will match are integers and real numbers. You will need to **add regular expressions** so that it correctly matches all of the items described later in these instructions.\n",
        "\n"
      ],
      "metadata": {
        "id": "i7t8PyNMfYSP"
      }
    },
    {
      "cell_type": "code",
      "source": [
        "\"\"\"\n",
        "match_strings.py\n",
        "\n",
        "This notebook cell simulates reading lines from standard input.\n",
        "Students can enter multiple text lines, and the program will print\n",
        "the name of the first matching pattern or \"unknown\" if no match.\n",
        "\"\"\"\n",
        "\n",
        "import re\n",
        "\n",
        "# ------------------------------------------------------------\n",
        "# STEP 1: Define regex patterns\n",
        "# ------------------------------------------------------------\n",
        "patterns = [\n",
        "    (r'^\\d+$', 'integer'),\n",
        "    (r'^\\d+\\.\\d+$', 'real number'),\n",
        "]\n",
        "\n",
        "# ------------------------------------------------------------\n",
        "# STEP 2: Provide input lines\n",
        "# ------------------------------------------------------------\n",
        "user_input = \"\"\"\n",
        "1234\n",
        "5.6\n",
        "\"\"\"\n",
        "\n",
        "# Convert to list of non-empty lines\n",
        "lines = [line.strip() for line in user_input.strip().split(\"\\n\") if line.strip()]\n",
        "\n",
        "# ------------------------------------------------------------\n",
        "# STEP 3: Match each line to patterns\n",
        "# ------------------------------------------------------------\n",
        "def print_match(string, patterns):\n",
        "    for pattern, name in patterns:\n",
        "        if re.fullmatch(pattern, string):\n",
        "            print(f\"{string} → {name}\")\n",
        "            return\n",
        "    print(f\"{string} → unknown\")\n",
        "\n",
        "print(\"🔍 Matching Results:\\n\")\n",
        "for line in lines:\n",
        "    print_match(line, patterns)\n"
      ],
      "metadata": {
        "colab": {
          "base_uri": "https://localhost:8080/"
        },
        "id": "rwmFLlR1gB0Y",
        "outputId": "93f5856a-bd65-4272-b6a5-13a3f3e7f5cc"
      },
      "execution_count": null,
      "outputs": [
        {
          "output_type": "stream",
          "name": "stdout",
          "text": [
            "🔍 Matching Results:\n",
            "\n",
            "1234 → integer\n",
            "5.6 → real number\n"
          ]
        }
      ]
    },
    {
      "cell_type": "markdown",
      "source": [
        "In the `main()` function of the program there is the following list of tuples. Each tuple in the list contains a regular expression and a name of the pattern that it recognizes.\n",
        "\n",
        "    patterns = [\n",
        "        (r'^\\d+$', 'integer'),\n",
        "        (r'^\\d+\\.\\d+$', 'real number'),\n",
        "    ]\n",
        "\n",
        "The only changes you need to make to the program are additional entries in this list.\n"
      ],
      "metadata": {
        "id": "scGn3oYQftBr"
      }
    },
    {
      "cell_type": "markdown",
      "source": [
        "### **🧩 Pattern 1 – Match UPM Course Code**\n",
        "\n",
        "A valid UPM course code:\n",
        "- Begins with **three uppercase letters (A–Z)**.  \n",
        "- Followed by **four digits**.  \n",
        "- There may or may not be **one space** between letters and digits.\n",
        "\n",
        "✅ Valid examples: `SKM3206`, `CSC 3100`, `QKB1234`  \n",
        "❌ Invalid examples: `sse123`, `PKP567`, `S km 3001`"
      ],
      "metadata": {
        "id": "W0_dbyWbeYCI"
      }
    },
    {
      "cell_type": "markdown",
      "source": [
        "### **💰 Pattern 2 – Match Malaysian Fee Format**\n",
        "\n",
        "Rules:\n",
        "- Must begin with `RM`.  \n",
        "- Can include **commas** as thousand separators.  \n",
        "- May have **optional cents (two digits)** after a decimal point.  \n",
        "\n",
        "✅ Valid: `RM1`, `RM1.99`, `RM2,000.99`, `RM1,234,567.89`  \n",
        "❌ Invalid: `RM1.9`, `RM10,23.4`"
      ],
      "metadata": {
        "id": "mBf95YxpdQ31"
      }
    },
    {
      "cell_type": "markdown",
      "source": [
        "### **☎️ Pattern 3 – Match Malaysian Phone Numbers**\n",
        "\n",
        "A valid phone number:\n",
        "- Area code in parentheses `(03)` or with a hyphen `03-`.  \n",
        "- Followed by **8 digits**.  \n",
        "- May include **one space** after the closing parenthesis.\n",
        "\n",
        "✅ Valid: `(03)23456789`, `(05) 23456789`, `04-23456789`  \n",
        "❌ Invalid: `(123)4567890`, `456-7890`"
      ],
      "metadata": {
        "id": "39x0udWbQsuW"
      }
    },
    {
      "cell_type": "markdown",
      "source": [
        "---\n",
        "## **Task:**\n",
        "1. Copy the `match_strings.py` into the code section below.\n",
        "2. For each of the pattern above, add their own regex patterns to the patterns list.\n",
        "3. Paste or type their test strings inside the `user_input` variable.\n",
        "4. Run the cell to see which pattern each line matches.\n",
        "---"
      ],
      "metadata": {
        "id": "z4XVzjcUiWmR"
      }
    },
    {
      "cell_type": "code",
      "source": [],
      "metadata": {
        "id": "P3JXlBh1jGGA"
      },
      "execution_count": null,
      "outputs": []
    },
    {
      "cell_type": "markdown",
      "source": [
        "---\n",
        "## ✅ **Submission Reminder:**  \n",
        "- Upload your Colab link to Moodle (as *Viewer link*).  \n",
        "- Ensure the file name is `Lab1_StudentID_Name.ipynb`.  \n",
        "---\n"
      ],
      "metadata": {
        "id": "_xIrY2pJe_kT"
      }
    }
  ]
}